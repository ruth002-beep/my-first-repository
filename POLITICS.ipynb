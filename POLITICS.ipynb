{
 "cells": [
  {
   "cell_type": "code",
   "execution_count": null,
   "metadata": {},
   "outputs": [],
   "source": [
    "##politics\n",
    "**globalization vs Nationalism\n",
    "Globalization refers to the interconnection of nations through trade, technology,and communication creating a world where economies and cultures blend and cooperate. This trend has driven economic growth,lifted milioons out of poverty and allowed rapid spread of ideas and innovations. However, its alose brought challenges;local industries can suffer,jobs may be outsourced, and people may feel their natonal identity being diluted\n",
    "**nationalism on the other hand emphasizes the importance of national sovereignty and cultural identy\n"
   ]
  }
 ],
 "metadata": {
  "kernelspec": {
   "display_name": "Python 3",
   "language": "python",
   "name": "python3"
  },
  "language_info": {
   "codemirror_mode": {
    "name": "ipython",
    "version": 3
   },
   "file_extension": ".py",
   "mimetype": "text/x-python",
   "name": "python",
   "nbconvert_exporter": "python",
   "pygments_lexer": "ipython3",
   "version": "3.8.5"
  }
 },
 "nbformat": 4,
 "nbformat_minor": 4
}
